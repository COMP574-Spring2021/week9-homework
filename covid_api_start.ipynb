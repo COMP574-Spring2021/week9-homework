{
 "metadata": {
  "language_info": {
   "codemirror_mode": {
    "name": "ipython",
    "version": 3
   },
   "file_extension": ".py",
   "mimetype": "text/x-python",
   "name": "python",
   "nbconvert_exporter": "python",
   "pygments_lexer": "ipython3",
   "version": "3.8.3-final"
  },
  "orig_nbformat": 2,
  "kernelspec": {
   "name": "python3",
   "display_name": "Python 3",
   "language": "python"
  }
 },
 "nbformat": 4,
 "nbformat_minor": 2,
 "cells": [
  {
   "source": [
    "__REST APIs__ Stands for “Representational State Transfer” is an architectural style for APIs that relies on the HTTP protocol and JSON data format to send and receive messages. It is a set of rules that developers follow when they create their API. One of these rules states that you should be able to get a piece of data (called a resource) when you link to a specific URL. Each URL is called a request while the data sent back to you is called a response. Basically, you submit a URL to the API, and the API delivers data back to you conforming to the parameters you asked for.\n",
    "\n",
    "For data security, uses HTTPS, which is the underlying transport mechanism. REST is generally the API style of choice today.\n",
    "\n",
    "__JSON__ is an acronym for JavaScript Object Notation. JSON is a text format that is language independent. It is built on name-value pairs like a python dictionary. "
   ],
   "cell_type": "markdown",
   "metadata": {}
  },
  {
   "source": [
    "#### Convert dictionary data into a pandas dataframe using from_dict()"
   ],
   "cell_type": "markdown",
   "metadata": {}
  },
  {
   "cell_type": "code",
   "execution_count": null,
   "metadata": {},
   "outputs": [],
   "source": [
    "import pandas as pd\n",
    "data1 = {'col_1': [11, 22], 'col_2': ['a', 'b']}\n",
    "pd.DataFrame.from_dict(data1)"
   ]
  },
  {
   "cell_type": "code",
   "execution_count": null,
   "metadata": {},
   "outputs": [],
   "source": [
    "data2 = [{'col_1': 11, 'col_2': 'a'}, {'col_1': 33, 'col_2': 'b'}]\n",
    "pd.DataFrame.from_dict(data2)"
   ]
  },
  {
   "cell_type": "code",
   "execution_count": null,
   "metadata": {},
   "outputs": [],
   "source": [
    "import requests\n",
    "\n",
    "response = requests.get(\"https://covidtracking.com/api/us/daily\").json()"
   ]
  },
  {
   "source": [
    "__Exercise 1__ what is ```response```?"
   ],
   "cell_type": "markdown",
   "metadata": {}
  },
  {
   "source": [
    "__Exercise 2__ Create a dataframe to store the response. "
   ],
   "cell_type": "markdown",
   "metadata": {}
  },
  {
   "source": [
    "__Exercise 3__ Create a dataframe that contains 'date', 'hospitalizedCurrently', 'inIcuCurrently', 'onVentilatorCurrently' information in 2021. Index of the dataframe is date of Python datatime using ```pd.to_datetime```"
   ],
   "cell_type": "markdown",
   "metadata": {}
  },
  {
   "source": [
    "__Exercise 4__ Plot a area graph as shown below. \n",
    "\n",
    "<img src=\"covid-graph.png\" width=\"350\">"
   ],
   "cell_type": "markdown",
   "metadata": {}
  }
 ]
}