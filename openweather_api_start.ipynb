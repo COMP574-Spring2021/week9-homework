{
 "cells": [
  {
   "source": [
    "__OpenWeather API__\n",
    "\n",
    "An example to find current weather details of any city using openweathermap api \n",
    "\n",
    "Included in the program is my API key and is only being used for example purposes. Please don't spam OpenWeatherMap using my API key. Please sign up for your own API key here: https://home.openweathermap.org/users/sign_up"
   ],
   "cell_type": "markdown",
   "metadata": {}
  },
  {
   "cell_type": "code",
   "execution_count": null,
   "metadata": {},
   "outputs": [],
   "source": [
    "import requests, json \n",
    "import pandas as pd"
   ]
  },
  {
   "cell_type": "code",
   "execution_count": null,
   "metadata": {},
   "outputs": [],
   "source": [
    "api_key = \"0bcbed64545a4db2ff65349d16a3c84a\"\n",
    "base_url = \"http://api.openweathermap.org/data/2.5/weather?\"\n",
    "\n",
    "city_name = input(\"Enter city name : \") \n",
    "# test_url = \"http://api.openweathermap.org/data/2.5/weather?q=Boston&appid=0bcbed64545a4db2ff65349d16a3c84a\"\n",
    "complete_url = base_url + \"q=\" + city_name + \"&appid=\" + api_key + \"&units=imperial\"\n",
    "\n",
    "# zip_code = \"98104\"\n",
    "# country_code = \"us\"\n",
    "# complete_url_by_zip = base_url + \"zip=\" + zip_code + \",\" + country_code + \"&appid=\" + api_key + \"&units=imperial\""
   ]
  },
  {
   "cell_type": "code",
   "execution_count": null,
   "metadata": {},
   "outputs": [],
   "source": [
    "response = requests.get(complete_url)"
   ]
  },
  {
   "cell_type": "code",
   "execution_count": null,
   "metadata": {},
   "outputs": [],
   "source": [
    "results = response.json() \n",
    "results"
   ]
  },
  {
   "cell_type": "code",
   "execution_count": null,
   "metadata": {},
   "outputs": [],
   "source": [
    "# Now x contains list of nested dictionaries \n",
    "# Check the value of \"cod\" key is equal to \n",
    "# \"404\", means city is found otherwise, \n",
    "# city is not found \n",
    "if results['cod'] != '404': \n",
    "    main_info = results['main'] \n",
    "\n",
    "    current_temperature = main_info['temp'] \n",
    "\n",
    "    # lookup the \"pressure\" key of main_info \n",
    "    current_pressure = main_info['pressure'] \n",
    "\n",
    "    # lookup the \"humidity\" key of main_info \n",
    "    current_humidiy = main_info['humidity'] \n",
    "\n",
    "    # store the value of \"weather\" \n",
    "    weather_info = results['weather'] \n",
    "\n",
    "    # store the value corresponding \n",
    "    # to the \"description\" key at \n",
    "    # the 0th index \n",
    "    weather_description =  weather_info[0]['description'] \n",
    "\n",
    "    print(\" Temperature = \" + str(current_temperature) +\n",
    "          \"\\n Atmospheric pressure (in hPa unit) = \" + str(current_pressure) +\n",
    "          \"\\n Humidity (in percentage) = \" + str(current_humidiy) + \"\\n Weather Description = \" +\n",
    "          str(weather_description)) \n",
    "else: \n",
    "    print(\" City Not Found \") "
   ]
  },
  {
   "source": [
    "__5 day weather forcast__\n",
    "\n",
    "https://openweathermap.org/current#min"
   ],
   "cell_type": "markdown",
   "metadata": {}
  },
  {
   "cell_type": "code",
   "execution_count": null,
   "metadata": {},
   "outputs": [],
   "source": [
    "city_id_dict = {'Boston': 4930956,                                     \n",
    "                'New York': 5128581,\n",
    "                'Chicago': 4887398,\n",
    "                'Paris': 6455259,\n",
    "                'Cape Town': 3369157}"
   ]
  },
  {
   "source": [
    "More city ID [here](http://web.archive.org/web/20180619015316/http://openweathermap.org/help/city_list.txt)"
   ],
   "cell_type": "markdown",
   "metadata": {}
  }
 ],
 "metadata": {
  "kernelspec": {
   "display_name": "Python 3",
   "language": "python",
   "name": "python3"
  },
  "language_info": {
   "codemirror_mode": {
    "name": "ipython",
    "version": 3
   },
   "file_extension": ".py",
   "mimetype": "text/x-python",
   "name": "python",
   "nbconvert_exporter": "python",
   "pygments_lexer": "ipython3",
   "version": "3.8.3-final"
  }
 },
 "nbformat": 4,
 "nbformat_minor": 4
}